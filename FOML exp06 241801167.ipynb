{
 "cells": [
  {
   "cell_type": "markdown",
   "metadata": {},
   "source": [
    "*NAME:R.MOHANA SHRI\n",
    "ROLL NO:241801167*"
   ]
  },
  {
   "cell_type": "code",
   "execution_count": 4,
   "metadata": {
    "executionInfo": {
     "elapsed": 1676,
     "status": "ok",
     "timestamp": 1760270664248,
     "user": {
      "displayName": "LAKSHMISHRI S 241801134",
      "userId": "15586056826201541427"
     },
     "user_tz": -330
    },
    "id": "Un6-Ght-RYSR"
   },
   "outputs": [],
   "source": [
    "import pandas as pd\n",
    "import numpy as np\n",
    "from sklearn.preprocessing import LabelEncoder\n",
    "from sklearn.model_selection import train_test_split, cross_validate, StratifiedKFold\n",
    "from sklearn.svm import SVC\n",
    "from sklearn.metrics import confusion_matrix, accuracy_score, precision_score, recall_score, f1_score\n",
    "import matplotlib.pyplot as plt\n"
   ]
  },
  {
   "cell_type": "code",
   "execution_count": 5,
   "metadata": {
    "colab": {
     "base_uri": "https://localhost:8080/"
    },
    "executionInfo": {
     "elapsed": 20493,
     "status": "ok",
     "timestamp": 1760270687978,
     "user": {
      "displayName": "LAKSHMISHRI S 241801134",
      "userId": "15586056826201541427"
     },
     "user_tz": -330
    },
    "id": "rVpBPFcOTTx5",
    "outputId": "25786195-7a85-4879-dc3b-ecd4f965721f"
   },
   "outputs": [
    {
     "name": "stdout",
     "output_type": "stream",
     "text": [
      "Mounted at /content/drive\n"
     ]
    }
   ],
   "source": [
    "from google.colab import drive\n",
    "drive.mount('/content/drive')"
   ]
  },
  {
   "cell_type": "code",
   "execution_count": 6,
   "metadata": {
    "executionInfo": {
     "elapsed": 787,
     "status": "ok",
     "timestamp": 1760270693100,
     "user": {
      "displayName": "LAKSHMISHRI S 241801134",
      "userId": "15586056826201541427"
     },
     "user_tz": -330
    },
    "id": "rVkh185CRi4R"
   },
   "outputs": [],
   "source": [
    "file_path='/content/drive/MyDrive/MACHINE LEARNING/ObesityDataSet.csv'\n",
    "df = pd.read_csv(file_path)\n"
   ]
  },
  {
   "cell_type": "code",
   "execution_count": 7,
   "metadata": {
    "executionInfo": {
     "elapsed": 9,
     "status": "ok",
     "timestamp": 1760270695922,
     "user": {
      "displayName": "LAKSHMISHRI S 241801134",
      "userId": "15586056826201541427"
     },
     "user_tz": -330
    },
    "id": "WKmd-UWcRxlq"
   },
   "outputs": [],
   "source": [
    "X = df.drop('NObeyesdad', axis=1)\n",
    "y = df['NObeyesdad']"
   ]
  },
  {
   "cell_type": "code",
   "execution_count": 8,
   "metadata": {
    "executionInfo": {
     "elapsed": 9,
     "status": "ok",
     "timestamp": 1760270697772,
     "user": {
      "displayName": "LAKSHMISHRI S 241801134",
      "userId": "15586056826201541427"
     },
     "user_tz": -330
    },
    "id": "_q7rYNoWVTt7"
   },
   "outputs": [],
   "source": [
    "le_target = LabelEncoder()\n",
    "y_encoded = le_target.fit_transform(y)"
   ]
  },
  {
   "cell_type": "code",
   "execution_count": 9,
   "metadata": {
    "executionInfo": {
     "elapsed": 21,
     "status": "ok",
     "timestamp": 1760270702014,
     "user": {
      "displayName": "LAKSHMISHRI S 241801134",
      "userId": "15586056826201541427"
     },
     "user_tz": -330
    },
    "id": "a-7hKy0VVWJs"
   },
   "outputs": [],
   "source": [
    "X_encoded = X.copy()\n",
    "for col in X_encoded.select_dtypes(include='object').columns:\n",
    "    X_encoded[col] = LabelEncoder().fit_transform(X_encoded[col])"
   ]
  },
  {
   "cell_type": "code",
   "execution_count": 10,
   "metadata": {
    "executionInfo": {
     "elapsed": 53,
     "status": "ok",
     "timestamp": 1760270706616,
     "user": {
      "displayName": "LAKSHMISHRI S 241801134",
      "userId": "15586056826201541427"
     },
     "user_tz": -330
    },
    "id": "kiuIV19HVlmt"
   },
   "outputs": [],
   "source": [
    "X_train, X_test, y_train, y_test = train_test_split(\n",
    "    X_encoded, y_encoded, test_size=0.3, stratify=y_encoded, random_state=42)\n"
   ]
  },
  {
   "cell_type": "code",
   "execution_count": 11,
   "metadata": {
    "executionInfo": {
     "elapsed": 19,
     "status": "ok",
     "timestamp": 1760270707692,
     "user": {
      "displayName": "LAKSHMISHRI S 241801134",
      "userId": "15586056826201541427"
     },
     "user_tz": -330
    },
    "id": "iUbG7OO6Vtzm"
   },
   "outputs": [],
   "source": [
    "kernels = {\n",
    "    'rbf': {'C': 1.0, 'gamma': 'scale'},\n",
    "    'linear': {'C': 1.0},\n",
    "    'poly': {'degree': 3, 'C': 1.0, 'gamma': 'scale'},\n",
    "    'sigmoid': {'C': 1.0, 'gamma': 'scale'}\n",
    "}"
   ]
  },
  {
   "cell_type": "code",
   "execution_count": 21,
   "metadata": {
    "executionInfo": {
     "elapsed": 57,
     "status": "ok",
     "timestamp": 1760270957178,
     "user": {
      "displayName": "LAKSHMISHRI S 241801134",
      "userId": "15586056826201541427"
     },
     "user_tz": -330
    },
    "id": "aXEupLPzV3WY"
   },
   "outputs": [],
   "source": [
    "def train_evaluate_svm(kernel, params, X_train, X_test, y_train, y_test):\n",
    "    print(f\"\\nTraining SVM with kernel = '{kernel}'\")\n",
    "    model = SVC(kernel=kernel, **params, random_state=42)\n",
    "    model.fit(X_train, y_train)\n",
    "    y_pred = model.predict(X_test)\n",
    "\n",
    "    cm = confusion_matrix(y_test, y_pred)\n",
    "    print(\"Confusion Matrix:\\n\", cm)\n",
    "\n",
    "    acc = accuracy_score(y_test, y_pred)\n",
    "    precision = precision_score(y_test, y_pred, average=None, zero_division=0)\n",
    "    recall = recall_score(y_test, y_pred, average=None, zero_division=0)\n",
    "    f1 = f1_score(y_test, y_pred, average=None, zero_division=0)\n",
    "\n",
    "    print(f\"Accuracy: {acc:.4f}\")\n",
    "    for i, label in enumerate(le_target.classes_):\n",
    "        print(f\"Class '{label}': Precision={precision[i]:.4f}, Recall={recall[i]:.4f}, F1-score={f1[i]:.4f}\")\n",
    "\n",
    "    return model, acc, precision.mean(), recall.mean(), f1.mean()\n",
    "\n",
    "results = {}\n",
    "\n"
   ]
  },
  {
   "cell_type": "code",
   "execution_count": 22,
   "metadata": {
    "colab": {
     "base_uri": "https://localhost:8080/"
    },
    "executionInfo": {
     "elapsed": 891,
     "status": "ok",
     "timestamp": 1760270993144,
     "user": {
      "displayName": "LAKSHMISHRI S 241801134",
      "userId": "15586056826201541427"
     },
     "user_tz": -330
    },
    "id": "iTQ-JdQrUF5F",
    "outputId": "c570790e-f5d0-4031-c3c7-a3e7842e7dd9"
   },
   "outputs": [
    {
     "name": "stdout",
     "output_type": "stream",
     "text": [
      "\n",
      "Training SVM with kernel = 'rbf'\n",
      "Confusion Matrix:\n",
      " [[68 14  0  0  0  0  0]\n",
      " [24 41  0  0  0 19  2]\n",
      " [ 0  0 37  3 17  1 48]\n",
      " [ 0  0 11 41 37  0  0]\n",
      " [ 0  0  4  0 93  0  0]\n",
      " [ 2 16  4  0  0 54 11]\n",
      " [ 0  3 19  0  0 18 47]]\n",
      "Accuracy: 0.6009\n",
      "Class 'Insufficient_Weight': Precision=0.7234, Recall=0.8293, F1-score=0.7727\n",
      "Class 'Normal_Weight': Precision=0.5541, Recall=0.4767, F1-score=0.5125\n",
      "Class 'Obesity_Type_I': Precision=0.4933, Recall=0.3491, F1-score=0.4088\n",
      "Class 'Obesity_Type_II': Precision=0.9318, Recall=0.4607, F1-score=0.6165\n",
      "Class 'Obesity_Type_III': Precision=0.6327, Recall=0.9588, F1-score=0.7623\n",
      "Class 'Overweight_Level_I': Precision=0.5870, Recall=0.6207, F1-score=0.6034\n",
      "Class 'Overweight_Level_II': Precision=0.4352, Recall=0.5402, F1-score=0.4821\n",
      "\n",
      "Training SVM with kernel = 'linear'\n",
      "Confusion Matrix:\n",
      " [[76  6  0  0  0  0  0]\n",
      " [11 59  0  0  0 15  1]\n",
      " [ 0  0 92  5  0  2  7]\n",
      " [ 0  0  3 86  0  0  0]\n",
      " [ 0  0  0  1 96  0  0]\n",
      " [ 0 12  1  0  0 67  7]\n",
      " [ 0  1 12  0  0 17 57]]\n",
      "Accuracy: 0.8407\n",
      "Class 'Insufficient_Weight': Precision=0.8736, Recall=0.9268, F1-score=0.8994\n",
      "Class 'Normal_Weight': Precision=0.7564, Recall=0.6860, F1-score=0.7195\n",
      "Class 'Obesity_Type_I': Precision=0.8519, Recall=0.8679, F1-score=0.8598\n",
      "Class 'Obesity_Type_II': Precision=0.9348, Recall=0.9663, F1-score=0.9503\n",
      "Class 'Obesity_Type_III': Precision=1.0000, Recall=0.9897, F1-score=0.9948\n",
      "Class 'Overweight_Level_I': Precision=0.6634, Recall=0.7701, F1-score=0.7128\n",
      "Class 'Overweight_Level_II': Precision=0.7917, Recall=0.6552, F1-score=0.7170\n",
      "\n",
      "Training SVM with kernel = 'poly'\n",
      "Confusion Matrix:\n",
      " [[74  8  0  0  0  0  0]\n",
      " [26 46  0  0  0 12  2]\n",
      " [ 0  0 44  3  5  3 51]\n",
      " [ 0  0 12 42 35  0  0]\n",
      " [ 0  0  4  0 93  0  0]\n",
      " [ 3 29  1  0  0 42 12]\n",
      " [ 0  5 17  0  0 28 37]]\n",
      "Accuracy: 0.5962\n",
      "Class 'Insufficient_Weight': Precision=0.7184, Recall=0.9024, F1-score=0.8000\n",
      "Class 'Normal_Weight': Precision=0.5227, Recall=0.5349, F1-score=0.5287\n",
      "Class 'Obesity_Type_I': Precision=0.5641, Recall=0.4151, F1-score=0.4783\n",
      "Class 'Obesity_Type_II': Precision=0.9333, Recall=0.4719, F1-score=0.6269\n",
      "Class 'Obesity_Type_III': Precision=0.6992, Recall=0.9588, F1-score=0.8087\n",
      "Class 'Overweight_Level_I': Precision=0.4941, Recall=0.4828, F1-score=0.4884\n",
      "Class 'Overweight_Level_II': Precision=0.3627, Recall=0.4253, F1-score=0.3915\n",
      "\n",
      "Training SVM with kernel = 'sigmoid'\n",
      "Confusion Matrix:\n",
      " [[ 2  0  0  0 80  0  0]\n",
      " [ 0  0  0  0 86  0  0]\n",
      " [ 0  4  0  0 99  3  0]\n",
      " [ 0 73  0  0 14  2  0]\n",
      " [ 2 63  0  0 20 12  0]\n",
      " [ 0  0  0  0 87  0  0]\n",
      " [ 0  0  0  0 87  0  0]]\n",
      "Accuracy: 0.0347\n",
      "Class 'Insufficient_Weight': Precision=0.5000, Recall=0.0244, F1-score=0.0465\n",
      "Class 'Normal_Weight': Precision=0.0000, Recall=0.0000, F1-score=0.0000\n",
      "Class 'Obesity_Type_I': Precision=0.0000, Recall=0.0000, F1-score=0.0000\n",
      "Class 'Obesity_Type_II': Precision=0.0000, Recall=0.0000, F1-score=0.0000\n",
      "Class 'Obesity_Type_III': Precision=0.0423, Recall=0.2062, F1-score=0.0702\n",
      "Class 'Overweight_Level_I': Precision=0.0000, Recall=0.0000, F1-score=0.0000\n",
      "Class 'Overweight_Level_II': Precision=0.0000, Recall=0.0000, F1-score=0.0000\n"
     ]
    }
   ],
   "source": [
    "for kernel, params in kernels.items():\n",
    "    model, acc, prec, rec, f1 = train_evaluate_svm(kernel, params, X_train, X_test, y_train, y_test)\n",
    "    results[kernel] = {'model': model, 'accuracy': acc, 'precision': prec, 'recall': rec, 'f1': f1}\n",
    "\n"
   ]
  },
  {
   "cell_type": "code",
   "execution_count": 23,
   "metadata": {
    "colab": {
     "base_uri": "https://localhost:8080/",
     "height": 405
    },
    "executionInfo": {
     "elapsed": 762,
     "status": "ok",
     "timestamp": 1760271015183,
     "user": {
      "displayName": "LAKSHMISHRI S 241801134",
      "userId": "15586056826201541427"
     },
     "user_tz": -330
    },
    "id": "MC3Q-vwAV7EH",
    "outputId": "0808ceb8-5ae5-4a6d-db9d-869d5d9268a4"
   },
   "outputs": [
    {
     "data": {
      "image/png": "[encoded data removed]",
      "text/plain": [
       "<Figure size 800x500 with 1 Axes>"
      ]
     },
     "metadata": {},
     "output_type": "display_data"
    }
   ],
   "source": [
    "plt.figure(figsize=(8, 5))\n",
    "plt.bar(results.keys(), [v['accuracy'] for v in results.values()], color='skyblue')\n",
    "plt.ylabel('Accuracy')\n",
    "plt.title('SVM Accuracy for Different Kernels (Test Set)')\n",
    "plt.ylim(0, 1)\n",
    "plt.show()\n",
    "\n"
   ]
  },
  {
   "cell_type": "code",
   "execution_count": 24,
   "metadata": {
    "executionInfo": {
     "elapsed": 50,
     "status": "ok",
     "timestamp": 1760271034994,
     "user": {
      "displayName": "LAKSHMISHRI S 241801134",
      "userId": "15586056826201541427"
     },
     "user_tz": -330
    },
    "id": "hHLcF0_mVEw4"
   },
   "outputs": [],
   "source": [
    "cv_results = {'kernel': [], 'accuracy': [], 'precision': [], 'recall': [], 'f1': []}\n",
    "skf = StratifiedKFold(n_splits=5, shuffle=True, random_state=42)\n"
   ]
  },
  {
   "cell_type": "code",
   "execution_count": 41,
   "metadata": {
    "colab": {
     "base_uri": "https://localhost:8080/"
    },
    "executionInfo": {
     "elapsed": 3827,
     "status": "ok",
     "timestamp": 1760271437722,
     "user": {
      "displayName": "LAKSHMISHRI S 241801134",
      "userId": "15586056826201541427"
     },
     "user_tz": -330
    },
    "id": "e6tffiH6VJvI",
    "outputId": "50f0b9ed-5021-4011-d7fe-654bc53d5561"
   },
   "outputs": [
    {
     "name": "stderr",
     "output_type": "stream",
     "text": [
      "/usr/local/lib/python3.12/dist-packages/sklearn/metrics/_classification.py:1565: UndefinedMetricWarning: Precision is ill-defined and being set to 0.0 in labels with no predicted samples. Use `zero_division` parameter to control this behavior.\n",
      "  _warn_prf(average, modifier, f\"{metric.capitalize()} is\", len(result))\n",
      "/usr/local/lib/python3.12/dist-packages/sklearn/metrics/_classification.py:1565: UndefinedMetricWarning: Precision is ill-defined and being set to 0.0 in labels with no predicted samples. Use `zero_division` parameter to control this behavior.\n",
      "  _warn_prf(average, modifier, f\"{metric.capitalize()} is\", len(result))\n",
      "/usr/local/lib/python3.12/dist-packages/sklearn/metrics/_classification.py:1565: UndefinedMetricWarning: Precision is ill-defined and being set to 0.0 in labels with no predicted samples. Use `zero_division` parameter to control this behavior.\n",
      "  _warn_prf(average, modifier, f\"{metric.capitalize()} is\", len(result))\n",
      "/usr/local/lib/python3.12/dist-packages/sklearn/metrics/_classification.py:1565: UndefinedMetricWarning: Precision is ill-defined and being set to 0.0 in labels with no predicted samples. Use `zero_division` parameter to control this behavior.\n",
      "  _warn_prf(average, modifier, f\"{metric.capitalize()} is\", len(result))\n",
      "/usr/local/lib/python3.12/dist-packages/sklearn/metrics/_classification.py:1565: UndefinedMetricWarning: Precision is ill-defined and being set to 0.0 in labels with no predicted samples. Use `zero_division` parameter to control this behavior.\n",
      "  _warn_prf(average, modifier, f\"{metric.capitalize()} is\", len(result))\n"
     ]
    }
   ],
   "source": [
    "cv_results = {'kernel': [], 'accuracy': [], 'precision': [], 'recall': [], 'f1': []}\n",
    "for kernel, params in kernels.items():\n",
    "    svm = SVC(kernel=kernel, **params, random_state=42)\n",
    "    scoring = ['accuracy', 'precision_macro', 'recall_macro', 'f1_macro']\n",
    "    scores = cross_validate(svm, X_encoded, y_encoded, cv=skf, scoring=scoring)\n",
    "\n",
    "    cv_results['kernel'].append(kernel)\n",
    "    cv_results['accuracy'].append(np.mean(scores['test_accuracy']))\n",
    "    cv_results['precision'].append(np.mean(scores['test_precision_macro']))\n",
    "    cv_results['recall'].append(np.mean(scores['test_recall_macro']))\n",
    "    cv_results['f1'].append(np.mean(scores['test_f1_macro']))"
   ]
  },
  {
   "cell_type": "code",
   "execution_count": 42,
   "metadata": {
    "executionInfo": {
     "elapsed": 7,
     "status": "ok",
     "timestamp": 1760271440751,
     "user": {
      "displayName": "LAKSHMISHRI S 241801134",
      "userId": "15586056826201541427"
     },
     "user_tz": -330
    },
    "id": "ww2167otVTuV"
   },
   "outputs": [],
   "source": [
    "cv_df = pd.DataFrame(cv_results)"
   ]
  },
  {
   "cell_type": "code",
   "execution_count": 34,
   "metadata": {
    "colab": {
     "base_uri": "https://localhost:8080/"
    },
    "executionInfo": {
     "elapsed": 19,
     "status": "ok",
     "timestamp": 1760271300600,
     "user": {
      "displayName": "LAKSHMISHRI S 241801134",
      "userId": "15586056826201541427"
     },
     "user_tz": -330
    },
    "id": "PVieHYjkVeTq",
    "outputId": "3f6d3b5b-f262-4a68-b832-202003664a4c"
   },
   "outputs": [
    {
     "name": "stdout",
     "output_type": "stream",
     "text": [
      "\n",
      "Cross-validation results:\n",
      "    kernel  accuracy  precision    recall        f1\n",
      "0  sigmoid  0.039321   0.121320  0.037008  0.016799\n",
      "1      rbf  0.605868   0.611382  0.609128  0.595704\n",
      "2   linear  0.881099   0.883006  0.878050  0.876302\n",
      "3     poly  0.600660   0.606669  0.601402  0.589289\n",
      "4  sigmoid  0.039321   0.121320  0.037008  0.016799\n"
     ]
    }
   ],
   "source": [
    "cv_df = pd.DataFrame(cv_results)\n",
    "print(\"\\nCross-validation results:\")\n",
    "print(cv_df)\n"
   ]
  },
  {
   "cell_type": "code",
   "execution_count": 43,
   "metadata": {
    "colab": {
     "base_uri": "https://localhost:8080/",
     "height": 34
    },
    "executionInfo": {
     "elapsed": 46,
     "status": "ok",
     "timestamp": 1760271444026,
     "user": {
      "displayName": "LAKSHMISHRI S 241801134",
      "userId": "15586056826201541427"
     },
     "user_tz": -330
    },
    "id": "9AgFhLEyVeAU",
    "outputId": "2def982e-238c-4c55-b7e7-d9be152241e4"
   },
   "outputs": [
    {
     "data": {
      "text/plain": [
       "<Figure size 1000x600 with 0 Axes>"
      ]
     },
     "metadata": {},
     "output_type": "display_data"
    }
   ],
   "source": [
    "plt.figure(figsize=(10, 6))\n",
    "bar_width = 0.2\n",
    "x = np.arange(len(kernels))\n"
   ]
  },
  {
   "cell_type": "code",
   "execution_count": 44,
   "metadata": {
    "colab": {
     "base_uri": "https://localhost:8080/",
     "height": 452
    },
    "executionInfo": {
     "elapsed": 390,
     "status": "ok",
     "timestamp": 1760271446853,
     "user": {
      "displayName": "LAKSHMISHRI S 241801134",
      "userId": "15586056826201541427"
     },
     "user_tz": -330
    },
    "id": "n19wn18lVniz",
    "outputId": "6f65b1ed-6e2f-4915-e494-bdd2aae124b9"
   },
   "outputs": [
    {
     "data": {
      "image/png": "[encoded data removed]",
      "text/plain": [
       "<Figure size 640x480 with 1 Axes>"
      ]
     },
     "metadata": {},
     "output_type": "display_data"
    }
   ],
   "source": [
    "metrics = ['accuracy', 'precision', 'recall', 'f1']\n",
    "for i, metric in enumerate(metrics):\n",
    "    plt.bar(x + i * bar_width, cv_df[metric], width=bar_width, label=metric.capitalize())\n",
    "\n",
    "plt.xticks(x + bar_width * 1.5, cv_df['kernel'])\n",
    "plt.ylim(0, 1)\n",
    "plt.ylabel('Score')\n",
    "plt.title('SVM Performance Metrics (5-Fold Cross-Validation)')\n",
    "plt.legend()\n",
    "plt.show()\n",
    "\n",
    "\n"
   ]
  },
  {
   "cell_type": "code",
   "execution_count": 45,
   "metadata": {
    "colab": {
     "base_uri": "https://localhost:8080/"
    },
    "executionInfo": {
     "elapsed": 29,
     "status": "ok",
     "timestamp": 1760271482816,
     "user": {
      "displayName": "LAKSHMISHRI S 241801134",
      "userId": "15586056826201541427"
     },
     "user_tz": -330
    },
    "id": "QevU3YIiWxg6",
    "outputId": "3fa8c265-4d42-490d-d737-531ade1dfaf7"
   },
   "outputs": [
    {
     "name": "stdout",
     "output_type": "stream",
     "text": [
      "\n",
      "First 5 Support Vectors (RBF kernel):\n",
      "[[ 0.   22.    1.67 50.    1.    1.    3.    3.    1.    0.    3.    0.\n",
      "   1.    1.    3.    3.  ]\n",
      " [ 0.   19.    1.71 50.    0.    1.    1.    4.    1.    0.    1.    0.\n",
      "   2.    1.    2.    3.  ]\n",
      " [ 1.   19.    1.7  50.    0.    1.    1.    4.    1.    0.    1.    0.\n",
      "   2.    1.    2.    3.  ]\n",
      " [ 0.   20.    1.68 49.    0.    0.    3.    3.    2.    0.    2.    0.\n",
      "   2.    1.    2.    3.  ]\n",
      " [ 1.   17.    1.71 52.    0.    1.    2.    2.    2.    0.    2.    0.\n",
      "   0.    1.    2.    3.  ]]\n"
     ]
    }
   ],
   "source": [
    "rbf_model = results['rbf']['model']\n",
    "print(\"\\nFirst 5 Support Vectors (RBF kernel):\")\n",
    "print(rbf_model.support_vectors_[:5])\n"
   ]
  }
 ],
 "metadata": {
  "colab": {
   "authorship_tag": "ABX9TyP8ZCHBx0oBKKbFc8RjznKb",
   "provenance": []
  },
  "kernelspec": {
   "display_name": "Python 3",
   "name": "python3"
  },
  "language_info": {
   "name": "python"
  }
 },
 "nbformat": 4,
 "nbformat_minor": 0
}
