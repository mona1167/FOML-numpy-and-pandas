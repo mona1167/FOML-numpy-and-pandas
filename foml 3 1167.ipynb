{
 "cells": [
  {
   "cell_type": "markdown",
   "metadata": {},
   "source": [
    "**NAME: R.MOHANA SHRI  \n",
    "ROLL NO: 241801167\n",
    "EXP NO: 3\n",
    "EXP :A python program to implement loistic model**"
   ]
  },
  {
   "cell_type": "code",
   "execution_count": 2,
   "metadata": {
    "execution": {
     "iopub.execute_input": "2025-08-25T05:18:20.388426Z",
     "iopub.status.busy": "2025-08-25T05:18:20.388050Z",
     "iopub.status.idle": "2025-08-25T05:18:21.317453Z",
     "shell.execute_reply": "2025-08-25T05:18:21.316326Z",
     "shell.execute_reply.started": "2025-08-25T05:18:20.388401Z"
    },
    "trusted": true
   },
   "outputs": [
    {
     "data": {
      "text/html": [
       "<div>\n",
       "<style scoped>\n",
       "    .dataframe tbody tr th:only-of-type {\n",
       "        vertical-align: middle;\n",
       "    }\n",
       "\n",
       "    .dataframe tbody tr th {\n",
       "        vertical-align: top;\n",
       "    }\n",
       "\n",
       "    .dataframe thead th {\n",
       "        text-align: right;\n",
       "    }\n",
       "</style>\n",
       "<table border=\"1\" class=\"dataframe\">\n",
       "  <thead>\n",
       "    <tr style=\"text-align: right;\">\n",
       "      <th></th>\n",
       "      <th>User ID</th>\n",
       "      <th>Gender</th>\n",
       "      <th>Age</th>\n",
       "      <th>EstimatedSalary</th>\n",
       "      <th>Purchased</th>\n",
       "    </tr>\n",
       "  </thead>\n",
       "  <tbody>\n",
       "    <tr>\n",
       "      <th>0</th>\n",
       "      <td>15624510</td>\n",
       "      <td>Male</td>\n",
       "      <td>19</td>\n",
       "      <td>19000</td>\n",
       "      <td>0</td>\n",
       "    </tr>\n",
       "    <tr>\n",
       "      <th>1</th>\n",
       "      <td>15810944</td>\n",
       "      <td>Male</td>\n",
       "      <td>35</td>\n",
       "      <td>20000</td>\n",
       "      <td>0</td>\n",
       "    </tr>\n",
       "    <tr>\n",
       "      <th>2</th>\n",
       "      <td>15668575</td>\n",
       "      <td>Female</td>\n",
       "      <td>26</td>\n",
       "      <td>43000</td>\n",
       "      <td>0</td>\n",
       "    </tr>\n",
       "    <tr>\n",
       "      <th>3</th>\n",
       "      <td>15603246</td>\n",
       "      <td>Female</td>\n",
       "      <td>27</td>\n",
       "      <td>57000</td>\n",
       "      <td>0</td>\n",
       "    </tr>\n",
       "    <tr>\n",
       "      <th>4</th>\n",
       "      <td>15804002</td>\n",
       "      <td>Male</td>\n",
       "      <td>19</td>\n",
       "      <td>76000</td>\n",
       "      <td>0</td>\n",
       "    </tr>\n",
       "  </tbody>\n",
       "</table>\n",
       "</div>"
      ],
      "text/plain": [
       "    User ID  Gender  Age  EstimatedSalary  Purchased\n",
       "0  15624510    Male   19            19000          0\n",
       "1  15810944    Male   35            20000          0\n",
       "2  15668575  Female   26            43000          0\n",
       "3  15603246  Female   27            57000          0\n",
       "4  15804002    Male   19            76000          0"
      ]
     },
     "execution_count": 2,
     "metadata": {},
     "output_type": "execute_result"
    }
   ],
   "source": [
    "import pandas as pd\n",
    "import numpy as np\n",
    "import matplotlib.pyplot as plt\n",
    "from sklearn.model_selection import train_test_split\n",
    "from sklearn.preprocessing import StandardScaler\n",
    "from sklearn.linear_model import LogisticRegression\n",
    "from sklearn.metrics import confusion_matrix, accuracy_score\n",
    "\n",
    "\n",
    "df=pd.read_csv('/kaggle/input/suv-data/suv_data.csv')\n",
    "df.head()"
   ]
  },
  {
   "cell_type": "markdown",
   "metadata": {},
   "source": [
    "**Splitting dataset for training and testing**"
   ]
  },
  {
   "cell_type": "code",
   "execution_count": 20,
   "metadata": {
    "execution": {
     "iopub.execute_input": "2025-08-25T06:05:57.398994Z",
     "iopub.status.busy": "2025-08-25T06:05:57.398677Z",
     "iopub.status.idle": "2025-08-25T06:05:57.407021Z",
     "shell.execute_reply": "2025-08-25T06:05:57.406041Z",
     "shell.execute_reply.started": "2025-08-25T06:05:57.398974Z"
    },
    "trusted": true
   },
   "outputs": [],
   "source": [
    "x=df[[\"Age\",\"EstimatedSalary\"]]\n",
    "y=df[\"Purchased\"]\n",
    "x_train,x_test,y_train,y_test=train_test_split(x,y,test_size=0.3,random_state=0)"
   ]
  },
  {
   "cell_type": "markdown",
   "metadata": {},
   "source": [
    "**Scaling and training the model**"
   ]
  },
  {
   "cell_type": "code",
   "execution_count": 8,
   "metadata": {
    "execution": {
     "iopub.execute_input": "2025-08-25T05:31:02.156309Z",
     "iopub.status.busy": "2025-08-25T05:31:02.155895Z",
     "iopub.status.idle": "2025-08-25T05:31:02.170012Z",
     "shell.execute_reply": "2025-08-25T05:31:02.168575Z",
     "shell.execute_reply.started": "2025-08-25T05:31:02.156275Z"
    },
    "trusted": true
   },
   "outputs": [],
   "source": [
    "scaler= StandardScaler()\n",
    "x_train=scaler.fit_transform(x_train)\n",
    "x_test=scaler.transform(x_test)"
   ]
  },
  {
   "cell_type": "code",
   "execution_count": 10,
   "metadata": {
    "execution": {
     "iopub.execute_input": "2025-08-25T05:37:26.394426Z",
     "iopub.status.busy": "2025-08-25T05:37:26.394104Z",
     "iopub.status.idle": "2025-08-25T05:37:26.520988Z",
     "shell.execute_reply": "2025-08-25T05:37:26.517935Z",
     "shell.execute_reply.started": "2025-08-25T05:37:26.394405Z"
    },
    "trusted": true
   },
   "outputs": [],
   "source": [
    "log_reg=LogisticRegression()\n",
    "log_reg.fit(x_train,y_train)\n",
    "y_pred=log_reg.predict(x_test)"
   ]
  },
  {
   "cell_type": "markdown",
   "metadata": {},
   "source": [
    "**Confusion matrix and model accuracy**"
   ]
  },
  {
   "cell_type": "code",
   "execution_count": 18,
   "metadata": {
    "execution": {
     "iopub.execute_input": "2025-08-25T05:46:41.624710Z",
     "iopub.status.busy": "2025-08-25T05:46:41.624359Z",
     "iopub.status.idle": "2025-08-25T05:46:41.633217Z",
     "shell.execute_reply": "2025-08-25T05:46:41.631972Z",
     "shell.execute_reply.started": "2025-08-25T05:46:41.624686Z"
    },
    "trusted": true
   },
   "outputs": [
    {
     "name": "stdout",
     "output_type": "stream",
     "text": [
      "True Positive: 74     False Negative: 5\n",
      "False Positive: 11    True Negative: 30\n"
     ]
    }
   ],
   "source": [
    "tp,fn,fp,tn=confusion_matrix(y_test,y_pred).ravel()\n",
    "print(f\"True Positive: {tp}     False Negative: {fn}\")\n",
    "print(f\"False Positive: {fp}    True Negative: {tn}\")"
   ]
  },
  {
   "cell_type": "code",
   "execution_count": 19,
   "metadata": {
    "execution": {
     "iopub.execute_input": "2025-08-25T06:04:38.029624Z",
     "iopub.status.busy": "2025-08-25T06:04:38.029275Z",
     "iopub.status.idle": "2025-08-25T06:04:38.039851Z",
     "shell.execute_reply": "2025-08-25T06:04:38.038686Z",
     "shell.execute_reply.started": "2025-08-25T06:04:38.029574Z"
    },
    "trusted": true
   },
   "outputs": [
    {
     "name": "stdout",
     "output_type": "stream",
     "text": [
      "Training Accuracy: 0.83\n",
      "Test Accuracy: 0.87\n"
     ]
    }
   ],
   "source": [
    "test_acc=accuracy_score(y_test,y_pred)\n",
    "train_acc=log_reg.score(x_train,y_train)\n",
    "print(f\"Training Accuracy: {train_acc:.2f}\")\n",
    "print(f\"Test Accuracy: {test_acc:.2f}\")"
   ]
  }
 ],
 "metadata": {
  "kaggle": {
   "accelerator": "none",
   "dataSources": [
    {
     "datasetId": 401148,
     "sourceId": 769675,
     "sourceType": "datasetVersion"
    }
   ],
   "dockerImageVersionId": 31089,
   "isGpuEnabled": false,
   "isInternetEnabled": false,
   "language": "python",
   "sourceType": "notebook"
  },
  "kernelspec": {
   "display_name": "Python 3",
   "language": "python",
   "name": "python3"
  },
  "language_info": {
   "codemirror_mode": {
    "name": "ipython",
    "version": 3
   },
   "file_extension": ".py",
   "mimetype": "text/x-python",
   "name": "python",
   "nbconvert_exporter": "python",
   "pygments_lexer": "ipython3",
   "version": "3.11.13"
  }
 },
 "nbformat": 4,
 "nbformat_minor": 4
}
