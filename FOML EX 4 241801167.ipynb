{
 "cells": [
  {
   "cell_type": "markdown",
   "metadata": {},
   "source": [
    "*Name:R.MOHANA SHRI\n",
    "ROLL NO:241801167*"
   ]
  },
  {
   "cell_type": "code",
   "execution_count": null,
   "metadata": {
    "id": "N5FwFH3H0-Xz"
   },
   "outputs": [],
   "source": [
    "import numpy as np\n"
   ]
  },
  {
   "cell_type": "code",
   "execution_count": null,
   "metadata": {
    "id": "gRl2Og721_ig"
   },
   "outputs": [],
   "source": [
    "X = np.array([[0, 0],\n",
    "              [0, 1],\n",
    "              [1, 0],\n",
    "              [1, 1]])\n",
    "\n",
    "\n"
   ]
  },
  {
   "cell_type": "code",
   "execution_count": null,
   "metadata": {
    "id": "nUt23ARx2LDX"
   },
   "outputs": [],
   "source": [
    "Y = np.array([0, 0, 0, 1])\n"
   ]
  },
  {
   "cell_type": "code",
   "execution_count": null,
   "metadata": {
    "colab": {
     "base_uri": "https://localhost:8080/"
    },
    "executionInfo": {
     "elapsed": 43,
     "status": "ok",
     "timestamp": 1758820133627,
     "user": {
      "displayName": "LAKSHMISHRI S 241801134",
      "userId": "15586056826201541427"
     },
     "user_tz": -330
    },
    "id": "LHy4L5mT2V5Z",
    "outputId": "ccabd043-4c88-4bcc-e711-785e938cdfd4"
   },
   "outputs": [
    {
     "name": "stdout",
     "output_type": "stream",
     "text": [
      "Initial weights:[ 0.3 -0.2],theta=0.4,lr=0.2\n",
      "\n"
     ]
    }
   ],
   "source": [
    "w = np.array([0.3, -0.2])\n",
    "theta=0.4\n",
    "lr=0.2\n",
    "epochs=5\n",
    "print(f\"Initial weights:{w},theta={theta},lr={lr}\\n\")\n"
   ]
  },
  {
   "cell_type": "code",
   "execution_count": null,
   "metadata": {
    "colab": {
     "base_uri": "https://localhost:8080/"
    },
    "executionInfo": {
     "elapsed": 22,
     "status": "ok",
     "timestamp": 1758820263208,
     "user": {
      "displayName": "LAKSHMISHRI S 241801134",
      "userId": "15586056826201541427"
     },
     "user_tz": -330
    },
    "id": "E1Mx_Jz-2Vhb",
    "outputId": "195813b0-a56d-445f-c270-4d316f838705"
   },
   "outputs": [
    {
     "name": "stdout",
     "output_type": "stream",
     "text": [
      "---Epoch 1 ---\n",
      "x1\tx2\ty_des\ty_est\terror\tw1\tw2\n",
      "0\t0\t0\t1\t-1\t0.3\t-0.2\n",
      "0\t1\t0\t1\t-1\t0.3\t-0.4\n",
      "1\t0\t0\t1\t-1\t0.1\t-0.4\n",
      "1\t1\t1\t1\t0\t0.1\t-0.4\n",
      "---Epoch 2 ---\n",
      "x1\tx2\ty_des\ty_est\terror\tw1\tw2\n",
      "0\t0\t0\t1\t-1\t0.1\t-0.4\n",
      "0\t1\t0\t1\t-1\t0.1\t-0.6\n",
      "1\t0\t0\t1\t-1\t-0.1\t-0.6\n",
      "1\t1\t1\t0\t1\t0.1\t-0.4\n",
      "---Epoch 3 ---\n",
      "x1\tx2\ty_des\ty_est\terror\tw1\tw2\n",
      "0\t0\t0\t1\t-1\t0.1\t-0.4\n",
      "0\t1\t0\t0\t0\t0.1\t-0.4\n",
      "1\t0\t0\t1\t-1\t-0.1\t-0.4\n",
      "1\t1\t1\t0\t1\t0.1\t-0.2\n",
      "---Epoch 4 ---\n",
      "x1\tx2\ty_des\ty_est\terror\tw1\tw2\n",
      "0\t0\t0\t1\t-1\t0.1\t-0.2\n",
      "0\t1\t0\t1\t-1\t0.1\t-0.4\n",
      "1\t0\t0\t1\t-1\t-0.1\t-0.4\n",
      "1\t1\t1\t0\t1\t0.1\t-0.2\n",
      "---Epoch 5 ---\n",
      "x1\tx2\ty_des\ty_est\terror\tw1\tw2\n",
      "0\t0\t0\t1\t-1\t0.1\t-0.2\n",
      "0\t1\t0\t1\t-1\t0.1\t-0.4\n",
      "1\t0\t0\t1\t-1\t-0.1\t-0.4\n",
      "1\t1\t1\t0\t1\t0.1\t-0.2\n"
     ]
    }
   ],
   "source": [
    "for epoch in range(1, epochs+1):\n",
    "  print(f\"---Epoch {epoch} ---\")\n",
    "  print(f\"x1\\tx2\\ty_des\\ty_est\\terror\\tw1\\tw2\")\n",
    "  error_count = 0\n",
    "  for i in range(len(X)):\n",
    "    x=X[i]\n",
    "    y_des=Y[i]\n",
    "\n",
    "    net = np.dot(x, w) + theta\n",
    "    y_est=1 if net>=0 else 0\n",
    "    error = y_des-y_est\n",
    "    if error != 0:\n",
    "      w = w + lr * error * x\n",
    "      error_count += 1\n",
    "    print(f\"{x[0]}\\t{x[1]}\\t{y_des}\\t{y_est}\\t{error}\\t{w[0]:.1f}\\t{w[1]:.1f}\")\n",
    "\n",
    "  if error_count == 0:\n",
    "    print(\"\\nTraining complete!\")\n",
    "    break\n"
   ]
  },
  {
   "cell_type": "code",
   "execution_count": null,
   "metadata": {
    "colab": {
     "base_uri": "https://localhost:8080/"
    },
    "executionInfo": {
     "elapsed": 58,
     "status": "ok",
     "timestamp": 1758820286310,
     "user": {
      "displayName": "LAKSHMISHRI S 241801134",
      "userId": "15586056826201541427"
     },
     "user_tz": -330
    },
    "id": "DC1fzAgK26t1",
    "outputId": "834bb5a2-e312-4d83-9126-eed1052cacb2"
   },
   "outputs": [
    {
     "name": "stdout",
     "output_type": "stream",
     "text": [
      "\n",
      "Final perceptron outputs:\n",
      "Input [0 0]->Net=0.4,Yest=1,Ydes=0\n",
      "Input [0 1]->Net=0.2,Yest=1,Ydes=0\n",
      "Input [1 0]->Net=0.5,Yest=1,Ydes=0\n",
      "Input [1 1]->Net=0.3,Yest=1,Ydes=1\n"
     ]
    }
   ],
   "source": [
    "print(\"\\nFinal perceptron outputs:\")\n",
    "for i in range(len(X)):\n",
    "  x=X[i]\n",
    "  net = np.dot(x, w) + theta\n",
    "  y_est=1 if net>=0 else 0\n",
    "  print(f\"Input {x}->Net={round(net,1)},Yest={y_est},Ydes={Y[i]}\")\n"
   ]
  },
  {
   "cell_type": "markdown",
   "metadata": {
    "id": "YXOaYwTy2ULA"
   },
   "source": []
  }
 ],
 "metadata": {
  "colab": {
   "authorship_tag": "ABX9TyO1+diZvqtbWTzI5TaRz32B",
   "provenance": []
  },
  "kernelspec": {
   "display_name": "Python 3",
   "name": "python3"
  },
  "language_info": {
   "name": "python"
  }
 },
 "nbformat": 4,
 "nbformat_minor": 0
}
