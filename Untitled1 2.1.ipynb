{
 "cells": [
  {
   "cell_type": "code",
   "execution_count": 1,
   "id": "59b92186",
   "metadata": {},
   "outputs": [
    {
     "name": "stdout",
     "output_type": "stream",
     "text": [
      "[1 2 3 4 5]\n"
     ]
    }
   ],
   "source": [
    "import numpy as np\n",
    "a = np.array([1,2,3,4,5])\n",
    "print(a)"
   ]
  },
  {
   "cell_type": "code",
   "execution_count": 2,
   "id": "cc6fc7ff",
   "metadata": {},
   "outputs": [
    {
     "name": "stdout",
     "output_type": "stream",
     "text": [
      "[[1 2 3]\n",
      " [4 5 6]]\n"
     ]
    }
   ],
   "source": [
    "b = np.array(([1,2,3], [4,5,6]))\n",
    "print(b)"
   ]
  },
  {
   "cell_type": "code",
   "execution_count": 3,
   "id": "8ec6caaa",
   "metadata": {},
   "outputs": [
    {
     "name": "stdout",
     "output_type": "stream",
     "text": [
      "[0. 0. 0. 0. 0. 0.]\n",
      "\n",
      "dtype:  float64\n"
     ]
    }
   ],
   "source": [
    "z_a=np.zeros(6)\n",
    "print(z_a)\n",
    "print(\"\\ndtype: \",z_a.dtype)"
   ]
  },
  {
   "cell_type": "code",
   "execution_count": 4,
   "id": "9ccb477f",
   "metadata": {},
   "outputs": [
    {
     "name": "stdout",
     "output_type": "stream",
     "text": [
      "[[1. 0. 0. 0. 0.]\n",
      " [0. 1. 0. 0. 0.]\n",
      " [0. 0. 1. 0. 0.]\n",
      " [0. 0. 0. 1. 0.]\n",
      " [0. 0. 0. 0. 1.]]\n"
     ]
    }
   ],
   "source": [
    "c = np.eye(5)\n",
    "print(c)"
   ]
  },
  {
   "cell_type": "code",
   "execution_count": 5,
   "id": "f689599c",
   "metadata": {},
   "outputs": [
    {
     "name": "stdout",
     "output_type": "stream",
     "text": [
      "[1 2 3]\n",
      "[1. 2. 3.]\n"
     ]
    }
   ],
   "source": [
    "a = np.array([1,2,3])\n",
    "print(a)\n",
    "b = a.astype('f')\n",
    "print(b)"
   ]
  },
  {
   "cell_type": "code",
   "execution_count": 6,
   "id": "e820249e",
   "metadata": {},
   "outputs": [
    {
     "name": "stdout",
     "output_type": "stream",
     "text": [
      "[5 7 9]\n",
      "[ 4 10 18]\n",
      "[  4  25 216]\n",
      "int32\n",
      "int32\n"
     ]
    }
   ],
   "source": [
    "a = np.array([1,2,3])\n",
    "b = np.array([4,5,6])\n",
    "print(a+b)\n",
    "print(a*b)\n",
    "print(b**a)\n",
    "print(a.dtype)\n",
    "print(b.dtype)"
   ]
  },
  {
   "cell_type": "code",
   "execution_count": 7,
   "id": "b08bb2c4",
   "metadata": {},
   "outputs": [
    {
     "name": "stdout",
     "output_type": "stream",
     "text": [
      "[[ 1  2  3  4  9 10]\n",
      " [ 5  6  7  8 11 12]]\n",
      "\n",
      " [[[ 1  2]\n",
      "  [ 3  4]]\n",
      "\n",
      " [[ 9 10]\n",
      "  [ 5  6]]\n",
      "\n",
      " [[ 7  8]\n",
      "  [11 12]]]\n"
     ]
    }
   ],
   "source": [
    "import numpy as np \n",
    "arr = np.array([[1, 2, 3, 4,9,10], [5, 6, 7, 8,11,12]]) \n",
    "print(arr) \n",
    "newarr = arr. reshape (3, 2, 2) \n",
    "print(\"\\n\", newarr) "
   ]
  },
  {
   "cell_type": "code",
   "execution_count": 8,
   "id": "c54d6844",
   "metadata": {},
   "outputs": [
    {
     "name": "stdout",
     "output_type": "stream",
     "text": [
      "\n",
      "Array-wise comparison 1: True\n",
      "Array-wise comparison 2: False\n"
     ]
    }
   ],
   "source": [
    "arr3 = np.array([1, 2, 3]) \n",
    "arr4 = np.array([1, 2, 3]) \n",
    "arr5 = np.array([1, 2, 4]) \n",
    "result2 = np.array_equal(arr3, arr5)\n",
    "result1= np.array_equal(arr3, arr4) \n",
    "print(\"\\nArray-wise comparison 1:\", result1) \n",
    "print(\"Array-wise comparison 2:\", result2)"
   ]
  },
  {
   "cell_type": "code",
   "execution_count": 9,
   "id": "eb71a3b0",
   "metadata": {},
   "outputs": [
    {
     "name": "stdout",
     "output_type": "stream",
     "text": [
      "[0 1 2 3 4 5 6 7 8 9]\n",
      "\n",
      " After broadcasting1 [0 1 2 3 4 2 6 7 8 9]\n"
     ]
    }
   ],
   "source": [
    "x = np.arange(10) \n",
    "print(x) \n",
    "x[5] = 2 \n",
    "print(\"\\n After broadcasting1\",x) "
   ]
  },
  {
   "cell_type": "code",
   "execution_count": 10,
   "id": "d5639678",
   "metadata": {},
   "outputs": [
    {
     "name": "stdout",
     "output_type": "stream",
     "text": [
      "['hello' 'world' 'numpy']\n"
     ]
    },
    {
     "data": {
      "text/plain": [
       "['helloworldnumpy']"
      ]
     },
     "execution_count": 10,
     "metadata": {},
     "output_type": "execute_result"
    }
   ],
   "source": [
    "str_arr = np.array(['hello', 'world', 'numpy']) \n",
    "print(str_arr) \n",
    "['hello' 'world' 'numpy'] "
   ]
  },
  {
   "cell_type": "code",
   "execution_count": 11,
   "id": "301ee071",
   "metadata": {},
   "outputs": [
    {
     "name": "stdout",
     "output_type": "stream",
     "text": [
      "array 1\n",
      " [0 1 2 3 4 5 6 7 8 9] int32\n",
      "Array 2 \n",
      " [ 1.59874195 -0.8311346  -1.27774419  0.99059273 -0.07526216  0.52336397\n",
      "  0.74018738 -0.61116358  0.39455422  1.17839849] float64\n",
      "New Array \n",
      " [0. 1. 2. 3. 4. 5. 6. 7. 8. 9.] float64\n"
     ]
    }
   ],
   "source": [
    "arr1 = np.arange(10) \n",
    "arr2 = np.random. randn (10) \n",
    "print(\"array 1\\n\", arr1, arr1.dtype) \n",
    "print(\"Array 2 \\n\", arr2, arr2.dtype) \n",
    "new_arr = arr1.astype (arr2.dtype) \n",
    "arr1.astype(arr2.dtype) \n",
    "print(\"New Array \\n\", new_arr, new_arr.dtype) \n"
   ]
  },
  {
   "cell_type": "code",
   "execution_count": null,
   "id": "45193c91",
   "metadata": {},
   "outputs": [],
   "source": []
  }
 ],
 "metadata": {
  "kernelspec": {
   "display_name": "Python 3 (ipykernel)",
   "language": "python",
   "name": "python3"
  },
  "language_info": {
   "codemirror_mode": {
    "name": "ipython",
    "version": 3
   },
   "file_extension": ".py",
   "mimetype": "text/x-python",
   "name": "python",
   "nbconvert_exporter": "python",
   "pygments_lexer": "ipython3",
   "version": "3.9.12"
  }
 },
 "nbformat": 4,
 "nbformat_minor": 5
}
